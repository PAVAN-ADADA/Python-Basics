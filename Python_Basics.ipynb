{
  "nbformat": 4,
  "nbformat_minor": 0,
  "metadata": {
    "colab": {
      "provenance": []
    },
    "kernelspec": {
      "name": "python3",
      "display_name": "Python 3"
    },
    "language_info": {
      "name": "python"
    }
  },
  "cells": [
    {
      "cell_type": "markdown",
      "source": [
        "                                    Python Basics Questions\n",
        "\n",
        "\n",
        "1.What is Python, and why is it popular.?\n",
        "\n",
        "->Python is a high-level programming language which is widely used in the industry and easy to understand .\n",
        "it is popular for its versatilitiy , readablility, simplicity and it has a very large active community and vast libraries , and it is open source.\n",
        "\n",
        "\n",
        "2.What is an interpreter in Python.?\n",
        "\n",
        "->an interpreter is a program that reads and executes Python code line by line, allowing you to see the results immediate\n",
        "This process happens in real-time, allowing you to see the output of your code immediately after running it. The interpreter allows for interactive coding, making it easy to test and debug code line by line.\n",
        "\n",
        "\n",
        "3.What are pre-defined keywords in Python.?\n",
        "\n",
        "-> Keywords are reserved words in Python that have specific, pre-defined meanings and cannot be used as identifiers like variable names, function names, or class names. They are fundamental building blocks of the Python language, controlling program flow, defining structures, and performing operations. The following is a list of keywords in Python:\n",
        "if, else, elif, for, while, break, continue, and, or, not,True, False,is,try, except, finally, raise def, return, lambda, class,import, from, as ,global, nonlocal,with,async, await,None,pass, yield, del.\n",
        "\n",
        "\n",
        "4.Can keywords be used as variable names.?\n",
        "\n",
        "->No,keywords cannot be used as variable names. Keywords are reserved words that have specific meanings to the interpreter and are used to define the language's syntax. Attempting to use a keyword as a variable name will typically cause a syntax error.\n",
        "\n",
        "\n",
        "5.What is mutability in Python.?\n",
        "\n",
        "->Mutability in Python refers to the ability of an object to be modified after it is created. If an object is mutable, its state or value can be changed in place without creating a new object.\n",
        "\n",
        "\n",
        "6.Why are lists mutable, but tuples are immutable.?\n",
        "\n",
        "->Lists are mutable data structures, meaning their elements can be altered, added, or removed after the list is created. This flexibility makes lists well-suited for scenarios where the data they store is dynamic and subject to change throughout a program's execution where as Tuples are immutable. Once a tuple is created, its contents cannot be changed. This immutability provides a guarantee that the data stored in the tuple will remain constant. It's useful in situations where data integrity is essential, and accidental modification of the data needs to be prevented.\n",
        "\n",
        "\n",
        "7.What is the difference between “==” and “is” operators in Python.?\n",
        "\n",
        "->The difference between the == and is operators in Python are\n",
        "\n",
        "\"==\" operator checks if the values of two objects are equal. It compares the content of the objects, regardless of whether they are stored in the same memory location.\n",
        "\n",
        "\"is\" operator checks if two variables refer to the same object in memory. It verifies if the two operands have the same identity, meaning they point to the exact same memory location.\n",
        "\n",
        "\n",
        "8.What are logical operators in Python.?\n",
        "\n",
        "->Logical operators in Python are used to combine or modify boolean expressions (True or False). Python has three main logical operators: and, or, and not.\n",
        "\n",
        " and: Returns True if both operands are True, otherwise returns False.\n",
        "\n",
        "or: Returns True if at least one of the operands is True, otherwise returns False.\n",
        "\n",
        "not: Returns True if the operand is False, and False if the operand is True. It reverses the boolean value of the operand.\n",
        "\n",
        "\n",
        "9.What is type casting in Python.?\n",
        "\n",
        "->Type casting in Python, also known as type conversion, refers to the process of changing a variable's data type to another. This is done explicitly by the programmer using built-in functions. Python supports various type casting functions such as int(), float(), str(), bool(), etc.\n",
        "\n",
        "\n",
        "10.What is the difference between implicit and explicit type casting.?\n",
        "\n",
        "->Implicit type casting is the automatic conversion of one data type to another, typically performed by the compiler.\n",
        " Explicit type casting, is a manual conversion where the programmer specifies the desired data type.\n",
        "\n",
        "\n",
        "11.What is the purpose of conditional statements in Python.?\n",
        "\n",
        "->Conditional statements in Python enable programs to make decisions and execute different code blocks based on whether specific conditions are met. They control the flow of execution, allowing programs to respond dynamically to varying inputs and situations. The primary conditional statements in Python are if, elif, and else.\n",
        "\n",
        " if statement: Executes a block of code only if a specified condition is true.\n",
        "\n",
        "elif statement: An optional extension to the if statement, allowing for multiple conditions to be checked in sequence. If the preceding if or elif conditions are false, the elif condition is evaluated.\n",
        "\n",
        "else statement: An optional block of code that executes if none of the preceding if or elif conditions are true.\n",
        "\n",
        "\n",
        "12.How does the elif statement work.?\n",
        "\n",
        "-> The elif statement in Python acts as a shortcut for \"else if,\" allowing you to check multiple conditions in a single block. It's used in conjunction with if and else to create a conditional statement that evaluates a sequence of conditions.\n",
        "\n",
        "How it works:\n",
        "\n",
        "Initial if condition: The program first checks the condition in the initial if statement.\n",
        "  If the if condition is false, the program moves on to evaluate the conditions in elif statements, one after the other.\n",
        " If none of the preceding conditions (including the if condition) are true, the code within the else block is executed.\n",
        "\n",
        "\n",
        " 13.What is the difference between for and while loops.?\n",
        "\n",
        " -> for loops are best suited for situations where you know exactly how many times the loop will execute, often when iterating over a collection or sequence. while loops are more flexible and used when the number of iterations is unknown and depends on a dynamic condition.\n",
        "\n",
        "\n",
        " 14.Describe a scenario where a while loop is more suitable than a for loop.\n",
        "\n",
        " -> A while loop is more suitable than a for loop when the number of iterations is not known in advance and depends on a dynamic condition, such as waiting for user input or processing data until a specific criteria is met. For example, you might use a while loop to read lines from a file until the end of the file is reached, or to continue running a program until a user enters a specific command.\n",
        "\n",
        "\n"
      ],
      "metadata": {
        "id": "EE3X6B_G5ANP"
      }
    },
    {
      "cell_type": "markdown",
      "source": [],
      "metadata": {
        "id": "P6bXyZWn4-YW"
      }
    },
    {
      "cell_type": "markdown",
      "source": [
        "                         Practical Questions"
      ],
      "metadata": {
        "id": "MDaKJSHGJLRR"
      }
    },
    {
      "cell_type": "code",
      "execution_count": null,
      "metadata": {
        "id": "y50ujd55482C",
        "colab": {
          "base_uri": "https://localhost:8080/"
        },
        "outputId": "53abcbf9-d292-45b9-f254-2f10279b18bd"
      },
      "outputs": [
        {
          "output_type": "stream",
          "name": "stdout",
          "text": [
            "Hello, world!\n"
          ]
        }
      ],
      "source": [
        "# 1.Write a Python program to print \"Hello, World!\"\n",
        "print(\"Hello, world!\")\n"
      ]
    },
    {
      "cell_type": "code",
      "source": [
        "# 2.Write a Python program that displays your name and age.\n",
        "Name = \"pavan\"\n",
        "age  = \"25\"\n",
        "print(\"my name is \", end = name)\n",
        "\n",
        "print(\" my age is \" ,end = age)"
      ],
      "metadata": {
        "colab": {
          "base_uri": "https://localhost:8080/"
        },
        "id": "dwNHV3wgCn-t",
        "outputId": "ebfa17f9-7610-4df4-8822-a2026d3b2626"
      },
      "execution_count": null,
      "outputs": [
        {
          "output_type": "stream",
          "name": "stdout",
          "text": [
            "my name is pavan my age is 25"
          ]
        }
      ]
    },
    {
      "cell_type": "code",
      "source": [
        "# 3.Write code to print all the pre-defined keywords in Python using the keyword library.\n",
        "help(\"keywords\")"
      ],
      "metadata": {
        "colab": {
          "base_uri": "https://localhost:8080/"
        },
        "id": "Hhzw-S0-FgdU",
        "outputId": "a8f52e5c-521a-48c7-89a3-bef0d93d4905"
      },
      "execution_count": null,
      "outputs": [
        {
          "output_type": "stream",
          "name": "stdout",
          "text": [
            "\n",
            "Here is a list of the Python keywords.  Enter any keyword to get more help.\n",
            "\n",
            "False               class               from                or\n",
            "None                continue            global              pass\n",
            "True                def                 if                  raise\n",
            "and                 del                 import              return\n",
            "as                  elif                in                  try\n",
            "assert              else                is                  while\n",
            "async               except              lambda              with\n",
            "await               finally             nonlocal            yield\n",
            "break               for                 not                 \n",
            "\n"
          ]
        }
      ]
    },
    {
      "cell_type": "code",
      "source": [
        "# 4.Write a program that checks if a given word is a Python keyword.\n",
        "import keyword\n",
        "a = str(input(\"enter a keyword\"))\n",
        "if keyword.iskeyword(a):\n",
        "  print(\" The word is a python keyword\")\n",
        "else:\n",
        "    print(\" the given word is not a python keyword\")"
      ],
      "metadata": {
        "colab": {
          "base_uri": "https://localhost:8080/"
        },
        "id": "vX3cZIviF57t",
        "outputId": "78ef0074-dba2-4f0d-f554-3e8075f1d468"
      },
      "execution_count": null,
      "outputs": [
        {
          "output_type": "stream",
          "name": "stdout",
          "text": [
            "enter a keyworddog\n",
            " the given word is not a python keyword\n"
          ]
        }
      ]
    },
    {
      "cell_type": "code",
      "source": [
        "# 5. Create a list and tuple in Python, and demonstrate how attempting to change an element works differently for each.\n",
        "a =[1,2,3,\"dog\",3+5j] # here i have created a list\n",
        "a[1] = \"cat\"  # and changed its \"1\" index to cat in list i was able to do it because it is a mutable data type.\n",
        "a\n"
      ],
      "metadata": {
        "colab": {
          "base_uri": "https://localhost:8080/"
        },
        "id": "kIGHywJZJOaW",
        "outputId": "b0c62b05-5142-4988-f45d-e977a7803740"
      },
      "execution_count": null,
      "outputs": [
        {
          "output_type": "execute_result",
          "data": {
            "text/plain": [
              "[1, 'cat', 3, 'dog', (3+5j)]"
            ]
          },
          "metadata": {},
          "execution_count": 165
        }
      ]
    },
    {
      "cell_type": "code",
      "source": [
        "# 5 ans continue\n",
        "a = (1,2,\"fish\",5+7j) # here i have created a tuple\n",
        "a[2] = \"cow\" #and changed its \"2\" index to cow in tuple i was unable to do it because it is a immutable data type and it throws a error as we can see..!\n",
        "a\n"
      ],
      "metadata": {
        "colab": {
          "base_uri": "https://localhost:8080/",
          "height": 193
        },
        "id": "CMjL3C_qKWp2",
        "outputId": "f25bb714-a9f9-493d-98f2-30b95f2a0943"
      },
      "execution_count": null,
      "outputs": [
        {
          "output_type": "error",
          "ename": "TypeError",
          "evalue": "'tuple' object does not support item assignment",
          "traceback": [
            "\u001b[0;31m---------------------------------------------------------------------------\u001b[0m",
            "\u001b[0;31mTypeError\u001b[0m                                 Traceback (most recent call last)",
            "\u001b[0;32m<ipython-input-166-796311aca85b>\u001b[0m in \u001b[0;36m<cell line: 0>\u001b[0;34m()\u001b[0m\n\u001b[1;32m      1\u001b[0m \u001b[0;31m# 5 ans continue\u001b[0m\u001b[0;34m\u001b[0m\u001b[0;34m\u001b[0m\u001b[0m\n\u001b[1;32m      2\u001b[0m \u001b[0ma\u001b[0m \u001b[0;34m=\u001b[0m \u001b[0;34m(\u001b[0m\u001b[0;36m1\u001b[0m\u001b[0;34m,\u001b[0m\u001b[0;36m2\u001b[0m\u001b[0;34m,\u001b[0m\u001b[0;34m\"fish\"\u001b[0m\u001b[0;34m,\u001b[0m\u001b[0;36m5\u001b[0m\u001b[0;34m+\u001b[0m\u001b[0;36m7j\u001b[0m\u001b[0;34m)\u001b[0m \u001b[0;31m# here i have created a tuple\u001b[0m\u001b[0;34m\u001b[0m\u001b[0;34m\u001b[0m\u001b[0m\n\u001b[0;32m----> 3\u001b[0;31m \u001b[0ma\u001b[0m\u001b[0;34m[\u001b[0m\u001b[0;36m2\u001b[0m\u001b[0;34m]\u001b[0m \u001b[0;34m=\u001b[0m \u001b[0;34m\"cow\"\u001b[0m \u001b[0;31m#and changed its \"2\" index to cow in tuple i was unable to do it because it is a immutable data type and it throws a error as we can see..!\u001b[0m\u001b[0;34m\u001b[0m\u001b[0;34m\u001b[0m\u001b[0m\n\u001b[0m\u001b[1;32m      4\u001b[0m \u001b[0ma\u001b[0m\u001b[0;34m\u001b[0m\u001b[0;34m\u001b[0m\u001b[0m\n",
            "\u001b[0;31mTypeError\u001b[0m: 'tuple' object does not support item assignment"
          ]
        }
      ]
    },
    {
      "cell_type": "code",
      "source": [
        "#6. Write a function to demonstrate the behavior of mutable and immutable arguments.\n",
        "# mutable using list\n",
        "bag = [\"pencil\",\"pen\",1, True]\n",
        "bag[1]= 3+7j\n",
        "bag[0]= 1\n",
        "bag[3]= \"card\"\n",
        "bag\n",
        "# here you can see i have changed some values in list and printed it and it got changed because it is mutable thus the behaviour of a mutable data type."
      ],
      "metadata": {
        "colab": {
          "base_uri": "https://localhost:8080/"
        },
        "id": "9DNeex0mLXXh",
        "outputId": "cb93a7f6-7510-4f66-ab85-69519864766a"
      },
      "execution_count": null,
      "outputs": [
        {
          "output_type": "execute_result",
          "data": {
            "text/plain": [
              "[1, (3+7j), 1, 'card']"
            ]
          },
          "metadata": {},
          "execution_count": 167
        }
      ]
    },
    {
      "cell_type": "code",
      "source": [
        "# 6. ans continue\n",
        "# immutable using a string\n",
        "b = (\"moon\")\n",
        "b[0] = 2\n",
        "b[2] = v\n",
        "b\n",
        " # here we can see i have changed some values in string and printed it and it  doesn't got changed because it is immutable\n",
        " # And Throws an error has 'str' object does not support item assignment.\n"
      ],
      "metadata": {
        "colab": {
          "base_uri": "https://localhost:8080/",
          "height": 211
        },
        "id": "-k2uKDULWYvx",
        "outputId": "ee0a182b-32ec-4f5c-d481-26eab20d4567"
      },
      "execution_count": null,
      "outputs": [
        {
          "output_type": "error",
          "ename": "TypeError",
          "evalue": "'str' object does not support item assignment",
          "traceback": [
            "\u001b[0;31m---------------------------------------------------------------------------\u001b[0m",
            "\u001b[0;31mTypeError\u001b[0m                                 Traceback (most recent call last)",
            "\u001b[0;32m<ipython-input-168-32ca9f83e39b>\u001b[0m in \u001b[0;36m<cell line: 0>\u001b[0;34m()\u001b[0m\n\u001b[1;32m      2\u001b[0m \u001b[0;31m# immutable using a string\u001b[0m\u001b[0;34m\u001b[0m\u001b[0;34m\u001b[0m\u001b[0m\n\u001b[1;32m      3\u001b[0m \u001b[0mb\u001b[0m \u001b[0;34m=\u001b[0m \u001b[0;34m(\u001b[0m\u001b[0;34m\"moon\"\u001b[0m\u001b[0;34m)\u001b[0m\u001b[0;34m\u001b[0m\u001b[0;34m\u001b[0m\u001b[0m\n\u001b[0;32m----> 4\u001b[0;31m \u001b[0mb\u001b[0m\u001b[0;34m[\u001b[0m\u001b[0;36m0\u001b[0m\u001b[0;34m]\u001b[0m \u001b[0;34m=\u001b[0m \u001b[0;36m2\u001b[0m\u001b[0;34m\u001b[0m\u001b[0;34m\u001b[0m\u001b[0m\n\u001b[0m\u001b[1;32m      5\u001b[0m \u001b[0mb\u001b[0m\u001b[0;34m[\u001b[0m\u001b[0;36m2\u001b[0m\u001b[0;34m]\u001b[0m \u001b[0;34m=\u001b[0m \u001b[0mv\u001b[0m\u001b[0;34m\u001b[0m\u001b[0;34m\u001b[0m\u001b[0m\n\u001b[1;32m      6\u001b[0m \u001b[0mb\u001b[0m\u001b[0;34m\u001b[0m\u001b[0;34m\u001b[0m\u001b[0m\n",
            "\u001b[0;31mTypeError\u001b[0m: 'str' object does not support item assignment"
          ]
        }
      ]
    },
    {
      "cell_type": "code",
      "source": [
        "# 7. Write a program that performs basic arithmetic operations on two user-input numbers.\n",
        "a = int(input(\"enter value of a = \"))\n",
        "b = int(input(\"enter value of b = \"))\n",
        "c =a+b\n",
        "print(\"sum = \",c)\n",
        "c =a-b\n",
        "print(\"subtraction = \",c)"
      ],
      "metadata": {
        "colab": {
          "base_uri": "https://localhost:8080/"
        },
        "id": "9n8Bf4GmYFrV",
        "outputId": "1c1c29bb-5090-445c-c657-2c572e2778a7"
      },
      "execution_count": null,
      "outputs": [
        {
          "output_type": "stream",
          "name": "stdout",
          "text": [
            "enter value of a = 99\n",
            "enter value of b = 44\n",
            "sum =  143\n",
            "subtraction =  55\n"
          ]
        }
      ]
    },
    {
      "cell_type": "code",
      "source": [
        "from ast import And\n",
        "# 8.Write a program to demonstrate the use of logical operators\n",
        "Ground_Is_dry = True\n",
        "Not_raining_outside = True\n",
        "if Ground_Is_dry and Not_raining_outside == True:  # here i have use \"and\" logical operator in which both the condition should be true.\n",
        "  print(\"i will play cricket\")\n",
        "else:\n",
        "  print(\"i will not play cricket\")\n"
      ],
      "metadata": {
        "colab": {
          "base_uri": "https://localhost:8080/"
        },
        "id": "qpKuYcshZ1ci",
        "outputId": "7038d2ba-45f8-4736-8ad9-80968a90cd2c"
      },
      "execution_count": null,
      "outputs": [
        {
          "output_type": "stream",
          "name": "stdout",
          "text": [
            "i will play cricket\n"
          ]
        }
      ]
    },
    {
      "cell_type": "code",
      "source": [
        "# 9. Write a Python program to convert user input from string to integer, float, and boolean types.\n",
        "a = input(\"enter - \")\n",
        "a\n",
        "type(a)\n",
        "# here i have entered a number and its type is string as it shows"
      ],
      "metadata": {
        "colab": {
          "base_uri": "https://localhost:8080/"
        },
        "id": "Zt0tz8u9cdGB",
        "outputId": "d43cb4eb-d09b-4872-c26d-60bb82a6bcd6"
      },
      "execution_count": null,
      "outputs": [
        {
          "name": "stdout",
          "output_type": "stream",
          "text": [
            "enter - fox\n"
          ]
        },
        {
          "output_type": "execute_result",
          "data": {
            "text/plain": [
              "str"
            ]
          },
          "metadata": {},
          "execution_count": 173
        }
      ]
    },
    {
      "cell_type": "code",
      "source": [
        "#9. ans continue\n",
        "a = int(input(\"enter - \"))\n",
        "a\n",
        "type(a)\n",
        "# here I have changed it to integer..!"
      ],
      "metadata": {
        "colab": {
          "base_uri": "https://localhost:8080/"
        },
        "id": "lK53HOCTdM7P",
        "outputId": "5622ce65-d860-4fb0-e623-798e0396e895"
      },
      "execution_count": null,
      "outputs": [
        {
          "name": "stdout",
          "output_type": "stream",
          "text": [
            "enter - 1\n"
          ]
        },
        {
          "output_type": "execute_result",
          "data": {
            "text/plain": [
              "int"
            ]
          },
          "metadata": {},
          "execution_count": 65
        }
      ]
    },
    {
      "cell_type": "code",
      "source": [
        "#9. ans continue\n",
        "a = float(input(\"enter - \"))\n",
        "a\n",
        "type(a)\n",
        "# here I have changed it to float..!"
      ],
      "metadata": {
        "colab": {
          "base_uri": "https://localhost:8080/"
        },
        "id": "ZDIRYZFldNF4",
        "outputId": "a302db11-acc5-4dd7-c408-59d4638caa26"
      },
      "execution_count": null,
      "outputs": [
        {
          "name": "stdout",
          "output_type": "stream",
          "text": [
            "enter - 1\n"
          ]
        },
        {
          "output_type": "execute_result",
          "data": {
            "text/plain": [
              "float"
            ]
          },
          "metadata": {},
          "execution_count": 66
        }
      ]
    },
    {
      "cell_type": "code",
      "source": [
        "#9. ans continue\n",
        "a = bool(input(\"enter - \"))\n",
        "a\n",
        "type(a)\n",
        "# here I have changed it to boolean..!"
      ],
      "metadata": {
        "colab": {
          "base_uri": "https://localhost:8080/"
        },
        "id": "6uy5L9--dOGF",
        "outputId": "f8f34985-ca70-4bbe-9f7a-50aa774ea741"
      },
      "execution_count": null,
      "outputs": [
        {
          "name": "stdout",
          "output_type": "stream",
          "text": [
            "enter - 1\n"
          ]
        },
        {
          "output_type": "execute_result",
          "data": {
            "text/plain": [
              "bool"
            ]
          },
          "metadata": {},
          "execution_count": 68
        }
      ]
    },
    {
      "cell_type": "code",
      "source": [
        "# 10. Write code to demonstrate type casting with list elements.\n",
        "a = [1,\"abc\",True,7+2j]\n",
        "a[0]\n",
        "type(a[0])  # here we can see than it is a integer type"
      ],
      "metadata": {
        "colab": {
          "base_uri": "https://localhost:8080/"
        },
        "id": "3ybvS7rpez9I",
        "outputId": "707c21e8-8b62-4899-9064-eee09d5c20c3"
      },
      "execution_count": null,
      "outputs": [
        {
          "output_type": "execute_result",
          "data": {
            "text/plain": [
              "int"
            ]
          },
          "metadata": {},
          "execution_count": 109
        }
      ]
    },
    {
      "cell_type": "code",
      "source": [
        "# 10 ans continue\n",
        "from re import X\n",
        "a = [1,\"abc\",True,7+2j]\n",
        "a[0] = str(a[0])\n",
        "type(a[0]) #  it is a integer type in the list but we changed it to string type using typecasting.\n"
      ],
      "metadata": {
        "colab": {
          "base_uri": "https://localhost:8080/"
        },
        "id": "7gCQzdvFfYzX",
        "outputId": "a8f1610d-8d97-4521-f49d-f083b87b6577"
      },
      "execution_count": null,
      "outputs": [
        {
          "output_type": "execute_result",
          "data": {
            "text/plain": [
              "str"
            ]
          },
          "metadata": {},
          "execution_count": 108
        }
      ]
    },
    {
      "cell_type": "code",
      "source": [
        "# 11. Write a program that checks if a number is positive, negative, or zero.\n",
        "\n",
        "a = int(input(\"enter a no = \"))\n",
        "if a<0:\n",
        "  print(\"The entered number is negative \")\n",
        "elif a>0:\n",
        "    print(\"The entered number is positive \")\n",
        "\n",
        "else:\n",
        "  print(\"The number is invalid \")\n"
      ],
      "metadata": {
        "colab": {
          "base_uri": "https://localhost:8080/"
        },
        "id": "9siz6u8mmXJH",
        "outputId": "d9d0766f-be77-4f93-f026-081638fd236c"
      },
      "execution_count": null,
      "outputs": [
        {
          "output_type": "stream",
          "name": "stdout",
          "text": [
            "enter a no = -4\n",
            "The entered number is negative \n"
          ]
        }
      ]
    },
    {
      "cell_type": "code",
      "source": [
        "# 12.Write a for loop to print numbers from 1 to 10.\n",
        "for i in range(1,11):\n",
        "  print(i)\n",
        "\n"
      ],
      "metadata": {
        "colab": {
          "base_uri": "https://localhost:8080/"
        },
        "id": "B2dcveP6mXZk",
        "outputId": "2e270443-a45f-44ba-bca0-b5be6ed1ac75"
      },
      "execution_count": null,
      "outputs": [
        {
          "output_type": "stream",
          "name": "stdout",
          "text": [
            "1\n",
            "2\n",
            "3\n",
            "4\n",
            "5\n",
            "6\n",
            "7\n",
            "8\n",
            "9\n",
            "10\n"
          ]
        }
      ]
    },
    {
      "cell_type": "code",
      "source": [
        "# 13.Write a Python program to find the sum of all even numbers between 1 and 50.\n",
        "sum_of_even_no = 0\n",
        "for i in range(2,51,2):\n",
        "  sum_of_even_no += i\n",
        "  print(sum_of_even_no)"
      ],
      "metadata": {
        "colab": {
          "base_uri": "https://localhost:8080/"
        },
        "id": "PIIva3BL38PR",
        "outputId": "2952cfd0-f461-41c3-9efd-d7670f2112d5"
      },
      "execution_count": null,
      "outputs": [
        {
          "output_type": "stream",
          "name": "stdout",
          "text": [
            "2\n",
            "6\n",
            "12\n",
            "20\n",
            "30\n",
            "42\n",
            "56\n",
            "72\n",
            "90\n",
            "110\n",
            "132\n",
            "156\n",
            "182\n",
            "210\n",
            "240\n",
            "272\n",
            "306\n",
            "342\n",
            "380\n",
            "420\n",
            "462\n",
            "506\n",
            "552\n",
            "600\n",
            "650\n"
          ]
        }
      ]
    },
    {
      "cell_type": "code",
      "source": [
        "#14. Write a program to reverse a string using a while loop.\n",
        "string = \"bookstore\"\n",
        "reverse_string = \"\"\n",
        "length =len(string)-1\n",
        "while length >= 0:\n",
        "   reverse_string = reverse_string + string[length]\n",
        "   length = length- 1\n",
        "print(reverse_string)\n",
        "\n",
        "\n"
      ],
      "metadata": {
        "colab": {
          "base_uri": "https://localhost:8080/"
        },
        "id": "UBX6ePVw6QfY",
        "outputId": "a75a1263-2a54-4b2d-b99e-c305710d4c3c"
      },
      "execution_count": null,
      "outputs": [
        {
          "output_type": "stream",
          "name": "stdout",
          "text": [
            "erotskoob\n"
          ]
        }
      ]
    },
    {
      "cell_type": "code",
      "source": [
        "# 15.Write a Python program to calculate the factorial of a number provided by the user using a while loop.\n",
        "n = int(input(\"enter a number\"))\n",
        "factor = 1\n",
        "i = n\n",
        "while (i>=1):\n",
        "  factor = factor*i\n",
        "  i = i-1\n",
        "print(\"the factorial of\",n ,\"is\",factor)"
      ],
      "metadata": {
        "colab": {
          "base_uri": "https://localhost:8080/"
        },
        "id": "i4PGSlbHBstn",
        "outputId": "f66f7994-c35f-448f-f863-323bea17e8e9"
      },
      "execution_count": null,
      "outputs": [
        {
          "output_type": "stream",
          "name": "stdout",
          "text": [
            "enter a number55\n",
            "the factorial of 55 is 12696403353658275925965100847566516959580321051449436762275840000000000000\n"
          ]
        }
      ]
    }
  ]
}